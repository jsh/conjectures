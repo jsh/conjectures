{
 "cells": [
  {
   "cell_type": "markdown",
   "id": "d0133a55",
   "metadata": {},
   "source": [
    "# Disproving A Conjecture About Means of Sets of Prime Powers"
   ]
  },
  {
   "cell_type": "markdown",
   "id": "5e72ba65",
   "metadata": {},
   "source": [
    "Here's a conjecture:\n",
    "\n",
    "Consider the set of all powers of a prime, from $1$ to $p^k$: $P = \\{p^0, p^1, p^2, ... p^k\\}$.\n",
    "Pull out two subsets, $S$ and $T$ that have no common elements.\n",
    "\n",
    "For example, let $p = 2$ and $k = 10$, so $P = \\{1, 2, 4, 8, ..., 1024\\}$. \n",
    "Choose the subsets $S = \\{1, 2, 8\\}$ and $T = \\{4, 16, 32\\}$.\n",
    "\n",
    "Observe that $\\mu(S) = 11/3 \\neq 52/3 = \\mu(T)$\n",
    "\n",
    "The conjecture is that this will always be true.\n",
    "\n",
    "For any set of prime powers: $P = \\{p^0, ..., p^k\\}$, if $S, T \\subset P, S \\cap T = \\emptyset$, then\n",
    "$\\mu(S) \\neq \\mu(T)$"
   ]
  },
  {
   "cell_type": "markdown",
   "id": "e6dbac0e",
   "metadata": {},
   "source": [
    "## Re-Phrasing the Conjecture"
   ]
  },
  {
   "cell_type": "markdown",
   "id": "1b4ad694",
   "metadata": {},
   "source": [
    "Let's test this, for $p = 2$a\n",
    "\n",
    "First, *every* integer is a unique sum of powers of two.\n",
    "\n",
    "- 17 = 16 + 1\n",
    "- 7 = 4 + 2 + 1\n",
    "- 11 = 8 + 2 + 1\n",
    "- 52 = 32 + 16 + 4\n",
    "\n",
    "and so on.\n",
    "\n",
    "You can read that sum right from the number's binary representation.\n",
    "\n",
    "- $17 = 10001_2$\n",
    "- $ 7 = 111_2$\n",
    "- $11 = 1011_2$\n",
    "- $52 = 110100_2$\n",
    "...\n",
    "\n",
    "This means that each distinct subset, $S$, sums to a unique integer: $N(S) = \\sum_{p^k \\in S} p^k$ \n",
    "\n",
    "Also, the number of elements in the subset is just the number of 1-bits in its base-2 representation.\n",
    "\n",
    "Thus, if $S \\subset P$, then $\\mu(S) = N(S)/$(1-bits in $N(S)$)"
   ]
  },
  {
   "cell_type": "markdown",
   "id": "b63ad1a6",
   "metadata": {},
   "source": [
    "Next, I'll make up a term: I'll call the inverse of this -- (# of 1-bits in the binary representation /  N) -- the 1's density. I'm not crazy about this term and would love a better one. but let me use it for a few minutes.\n",
    "\n",
    "It does sort of correspond to your intuition. If a number is big but it doesn't have very many 1-bits in its binary representation, then the 1's density is low. If a number's little, but its binary representation is full of 1's, then the 1's density is high.\n",
    "\n",
    "For example,\n",
    "\n",
    "- $512 = 1000000000_2$ -- low 1's density\n",
    "- $15 = 1111_2$ -- high 1's density.\n",
    "- $3 = 11_2$ -- even higher 1's density\n",
    "\n",
    "\n",
    "No, wait. That's not right. I'm claiming that as long as they don't have any of the *same* one bits set, they won't have the same 1's density."
   ]
  },
  {
   "cell_type": "markdown",
   "id": "1ac22679",
   "metadata": {},
   "source": [
    "This suggests a more grandiose conjecture: *No* two integers ever have the same 1's density.\n",
    "\n",
    "Mmmm ... No. That's easy to disprove.\n",
    "\n",
    "When I look at, say, the first 100 integers, 69 and 92 have the same 1's density.\n",
    "\n",
    "69 has 3 one-bits, 92 has 4 one-bits. (3/69= 1/23 = 4/92).  \n",
    "\n",
    "But they do share bits!\n",
    "\n",
    "$69 = 1000101_2$ and $92 = 1011100_2$, so they share both $64 = 2^6$ and $4 = 2^2$.\n",
    "\n",
    "In other words, they correspond to subsets of P that intersect, so the more grandiose conjecture's false,\n",
    "but I still need to look for counterexamples to the original.\n",
    "\n",
    "Here that is in pseudo-code (for $p = 2$), rephrased in this new way:\n",
    "\n",
    "```\n",
    "if m != n and !share_bits(m, n) then ones_density(m) != ones_density(n).\n",
    "```\n",
    "\n",
    "Or, even more briefly:\n",
    "```\n",
    "if ones_density(m) == ones_density(n) then share_bits(m, n)\n",
    "```"
   ]
  },
  {
   "cell_type": "markdown",
   "id": "36f6ff5b",
   "metadata": {},
   "source": [
    "## Hunting a Counter-Example"
   ]
  },
  {
   "cell_type": "markdown",
   "id": "ffa843ff",
   "metadata": {},
   "source": [
    "### Finding More Collisions: integers with the same bit-density."
   ]
  },
  {
   "cell_type": "markdown",
   "id": "e36aaec4",
   "metadata": {},
   "source": [
    "Time to write some code to look for a counter-example.\n",
    "\n",
    "\n",
    "Let's begin with the two functions I used in the pseudo-code."
   ]
  },
  {
   "cell_type": "code",
   "execution_count": null,
   "id": "f203e8d4",
   "metadata": {},
   "outputs": [],
   "source": [
    "def ones_density(n):\n",
    "    \"\"\"Number of one-bits divided by the number itself.\"\"\"\n",
    "    return (n).bit_count()/n\n",
    "\n",
    "ones_density(3)"
   ]
  },
  {
   "cell_type": "markdown",
   "id": "21396ebc",
   "metadata": {},
   "source": [
    "Here, I'm using a feature, new in Python 3.10, [`int.bit_count()`](https://docs.python.org/3/library/stdtypes.html?highlight=bit_count#int.bit_count), which counts the number of 1-bits in an int."
   ]
  },
  {
   "cell_type": "code",
   "execution_count": null,
   "id": "620bd937",
   "metadata": {},
   "outputs": [],
   "source": [
    "def share_bits(m, n):\n",
    "    \"\"\"True iff m and n share a bit.\"\"\"\n",
    "    return bool(m&n)\n",
    "print(share_bits(1, 3))\n",
    "print(share_bits(8, 4))"
   ]
  },
  {
   "cell_type": "markdown",
   "id": "2c5c2e3d",
   "metadata": {},
   "source": [
    "Next, collect the `ones_density` of all the numbers from 1 to lim-1."
   ]
  },
  {
   "cell_type": "code",
   "execution_count": null,
   "id": "0859bf51",
   "metadata": {},
   "outputs": [],
   "source": [
    "def densities(lim):\n",
    "    \"\"\"Return densities of all numbers from 1 up to but not including lim.\"\"\"\n",
    "    d = {}\n",
    "    for n in range(1, lim):\n",
    "        d[n] = ones_density(n)\n",
    "    return d\n",
    "\n",
    "densities(5)"
   ]
  },
  {
   "cell_type": "markdown",
   "id": "fd9a7134",
   "metadata": {},
   "source": [
    "How many densities are there in all the numbers from 1 up to (but not including) 99?"
   ]
  },
  {
   "cell_type": "code",
   "execution_count": null,
   "id": "9bfc9ec7",
   "metadata": {},
   "outputs": [],
   "source": [
    "d_100 = densities(100)\n",
    "len(set(d_100.values()))"
   ]
  },
  {
   "cell_type": "markdown",
   "id": "e7fd1285",
   "metadata": {},
   "source": [
    "If every integer had a different density, there would have been 99 values. There are only 98, so some value is there twice -- there's a collision. Where is it?"
   ]
  },
  {
   "cell_type": "markdown",
   "id": "0e4eade2",
   "metadata": {},
   "source": [
    "Let's start out by reversing the mapping -- make a dictionary with the integer as the value and its ones density as its key. Then, every time we look at a new integer, we can see whether we've already seen an integer with that ones value.\n",
    "\n",
    "If we have, then we report the collision."
   ]
  },
  {
   "cell_type": "code",
   "execution_count": null,
   "id": "2e80489e",
   "metadata": {},
   "outputs": [],
   "source": [
    "def map_densities_to_ints(lim):\n",
    "    \"\"\"Construct density->int map.\"\"\"\n",
    "    int_val = {}\n",
    "    k = int_val.keys()\n",
    "    for n in range(1, lim):\n",
    "        d = ones_density(n)\n",
    "        if d in k:\n",
    "            print(f\"collision: {int_val[d]}, {n}\") # the current n, and the first integer with the same ones_density\n",
    "        else:\n",
    "            int_val[d] = n\n",
    "    return int_val\n",
    "\n",
    "iv_1000 = map_densities_to_ints(200)"
   ]
  },
  {
   "cell_type": "markdown",
   "id": "8f36769f",
   "metadata": {},
   "source": [
    "It's worth pointing out that `k`, the keys for `int_val`, is a *dictionary view*: not a copy of the keys, but a read-only view that changes as elements are added. It's more like a frozenset than a list, so the `if d in k` test is quite fast, even if k is large."
   ]
  },
  {
   "cell_type": "markdown",
   "id": "d8aaed41",
   "metadata": {},
   "source": [
    "### Screening the Collisions for Counter-Examples"
   ]
  },
  {
   "cell_type": "markdown",
   "id": "f0dcbf76",
   "metadata": {},
   "source": [
    "So we have plenty of collisions.\n",
    "\n",
    "Now we just have to ask whether colliders share bits."
   ]
  },
  {
   "cell_type": "markdown",
   "id": "67040450",
   "metadata": {},
   "source": [
    "Let's squirrel away the collisions, then go back and look."
   ]
  },
  {
   "cell_type": "code",
   "execution_count": null,
   "id": "b033e53c",
   "metadata": {},
   "outputs": [],
   "source": [
    "from collections import defaultdict\n",
    "def find_collisions(lim):\n",
    "    \"\"\"Examine every integer 1..lim-1 for ones_density collisions with other ints in range.\"\"\"\n",
    "    int_val = {}\n",
    "    collisions = defaultdict(set)\n",
    "    k = int_val.keys()\n",
    "    for n in range(1, lim):\n",
    "        d = ones_density(n)\n",
    "        if d in k:\n",
    "            c = {n, int_val[d]} # set of the colliding pair\n",
    "            collisions[d] |= c  # union with the existing set of collisions for that ones_density\n",
    "        else:\n",
    "            int_val[d] = n\n",
    "    return collisions\n",
    "\n",
    "find_collisions(100)"
   ]
  },
  {
   "cell_type": "markdown",
   "id": "3c9b751d",
   "metadata": {},
   "source": [
    "The conjecture is that collisions are only possible for numbers that have one or more bits in common.\n",
    "Does this pair share any bits?"
   ]
  },
  {
   "cell_type": "code",
   "execution_count": null,
   "id": "d7f31418",
   "metadata": {},
   "outputs": [],
   "source": [
    "share_bits(69, 92)"
   ]
  },
  {
   "cell_type": "markdown",
   "id": "d35dd8a8",
   "metadata": {},
   "source": [
    "Oh? And what bits would those be?"
   ]
  },
  {
   "cell_type": "code",
   "execution_count": null,
   "id": "325b8417",
   "metadata": {},
   "outputs": [],
   "source": [
    "def show_collision(i, j):\n",
    "    \"\"\"Display a collision.\"\"\"\n",
    "    print(f\"{(i).bit_count()}/{i} == {ones_density(i)} == {(j).bit_count()}/{j}\")\n",
    "    print(f\"collision: {i}({i:b}) & {j}({j:b}) == {i&j:b}\")\n",
    "\n",
    "show_collision(69, 92)"
   ]
  },
  {
   "cell_type": "markdown",
   "id": "894d507f",
   "metadata": {},
   "source": [
    "That's one case. We need a function that will look at all pairs from each collision set."
   ]
  },
  {
   "cell_type": "code",
   "execution_count": null,
   "id": "f36f4d02",
   "metadata": {},
   "outputs": [],
   "source": [
    "def collisions_share_bits(s):\n",
    "    \"\"\"Return true iff all elements in s share bits with one another.\"\"\"\n",
    "    l = list(s)   # turn it into a list\n",
    "    while l:\n",
    "        end = l.pop()   # pop off the rightmost element\n",
    "        pairwise_shares = [share_bits(end, elem) for elem in l] # check whether all remaining share bits with end\n",
    "        if not all(pairwise_shares):\n",
    "            return False\n",
    "    return True\n",
    "print(collisions_share_bits({69, 92}))\n",
    "print(collisions_share_bits({4, 8}))\n",
    "print(collisions_share_bits({69, 4, 92, 8}))"
   ]
  },
  {
   "cell_type": "markdown",
   "id": "3fa80801",
   "metadata": {},
   "source": [
    "That's okay, but really we'd like more detail. \n",
    "\n",
    "When there are two elements in a collision set, we only need to ask whether they share bits, but if there are three or more, we want to ask which pairs in the set (if any) don't share bits.\n",
    "\n",
    "We want to know *every* true exception, so we can go back and look at them."
   ]
  },
  {
   "cell_type": "code",
   "execution_count": null,
   "id": "a0a6c698",
   "metadata": {},
   "outputs": [],
   "source": [
    "from itertools import combinations\n",
    "def true_exceptions(s):\n",
    "    \"Return set of collisions that don't share bits.\"\n",
    "    exceptions = set()\n",
    "    for pair in combinations(s, 2):\n",
    "        if not share_bits(*pair):\n",
    "            exceptions.add(pair)\n",
    "    return exceptions\n",
    "\n",
    "print(true_exceptions({69, 92}))\n",
    "print(true_exceptions({4, 8}))\n",
    "print(true_exceptions({69, 4, 92, 8}))"
   ]
  },
  {
   "cell_type": "code",
   "execution_count": null,
   "id": "0c38354c",
   "metadata": {},
   "outputs": [],
   "source": [
    "def counter_examples(n):\n",
    "    \"\"\"Report any counter examples.\n",
    "    \n",
    "    A counterexample is a collision set in the range that has non-colliding members.\n",
    "    \"\"\"\n",
    "    counter_pairs = {}\n",
    "    for density, collisions in find_collisions(n).items():\n",
    "        if problems := true_exceptions(collisions):   # Found counterexamples\n",
    "            for problem in problems:\n",
    "                counter_pairs[density] = sorted(problem)  # sort by first element\n",
    "    return sorted(counter_pairs.items())\n",
    "            \n",
    "counter_examples(2**14)"
   ]
  },
  {
   "cell_type": "code",
   "execution_count": null,
   "id": "57c8f4d6",
   "metadata": {},
   "outputs": [],
   "source": [
    "show_collision(7554, 8813)"
   ]
  },
  {
   "cell_type": "markdown",
   "id": "2d13fa70",
   "metadata": {},
   "source": [
    "Same ones-density, no shared bits. The conjecture's ***FALSE***. Bummer.\n",
    "\n",
    "On the other hand, there are no counter examples even for sets as large as $P = \\{1, 2, 4, ..., 2^{12}, 2^{13} \\}$"
   ]
  },
  {
   "cell_type": "markdown",
   "id": "10179e1f",
   "metadata": {},
   "source": [
    "## Larger Values of $p$"
   ]
  },
  {
   "cell_type": "markdown",
   "id": "289a2897",
   "metadata": {},
   "source": [
    "If we use bigger values of $p$, are counter examples rarer, the same, or more frequent?"
   ]
  },
  {
   "cell_type": "markdown",
   "id": "87c654df",
   "metadata": {},
   "source": [
    "Binary is still a fine way to enumerate the possible subsets, but $N(S)$, in our calculation of ones density, is now the sum of powers of something other than 2.\n",
    "\n",
    "For example, $1011_2 = 11$ can still represent $S = \\{p^3, p^1, p^0\\}$, and the size of the set is still `(11).bit_count == 3`, and $N(S) = 1p^3 + 0p^2 + 1p^1 + 1p^0$,\n",
    "but $p$ is no longer 2.\n",
    "\n",
    "If, for example, $p = 5$, then $N(S) = 125 + 5 + 1 = 131$, and ones_density $= 131/3 = 0.0229007634$"
   ]
  },
  {
   "cell_type": "markdown",
   "id": "7f99d8ee",
   "metadata": {},
   "source": [
    "Let's re-write `ones_density()` as a function of `i` and `p`,\n",
    "where `i` is the i^th subset, corresponding to i_2, and `p` is what we plug in to get the series that we sum to get the number.\n",
    "\n",
    "To get the binary, we can just use f-strings: `f\"{i:b}\"`"
   ]
  },
  {
   "cell_type": "code",
   "execution_count": null,
   "id": "eb025e2f",
   "metadata": {
    "scrolled": true
   },
   "outputs": [],
   "source": [
    "i = 11\n",
    "for c in f\"{i:b}\":\n",
    "    print(c)"
   ]
  },
  {
   "cell_type": "markdown",
   "id": "0df5aef5",
   "metadata": {},
   "source": [
    "so that N(S) is just this:"
   ]
  },
  {
   "cell_type": "code",
   "execution_count": null,
   "id": "eb4a756e",
   "metadata": {},
   "outputs": [],
   "source": [
    "def N(i, p=2):\n",
    "    if p == 2:\n",
    "        return i\n",
    "    \n",
    "    total = 0\n",
    "    for c in f\"{i:b}\":\n",
    "        total = int(c) + p*total\n",
    "    return total\n",
    "\n",
    "N(11, 5)"
   ]
  },
  {
   "cell_type": "code",
   "execution_count": null,
   "id": "1a71a1a2",
   "metadata": {},
   "outputs": [],
   "source": [
    "def ones_density(i, p=2):\n",
    "    \"\"\"Return ones_density for set i, base p.\"\"\"\n",
    "    return (i).bit_count()/N(i, p)\n",
    "\n",
    "print(ones_density(11))\n",
    "print(ones_density(11, 5))\n",
    "print(ones_density(69))\n",
    "print(ones_density(69, 5))"
   ]
  },
  {
   "cell_type": "markdown",
   "id": "c1d1bbff",
   "metadata": {},
   "source": [
    "Next, we need to go back and re-write any function that calls `ones_density`, to take p as an additional argument."
   ]
  },
  {
   "cell_type": "code",
   "execution_count": null,
   "id": "d5512e4f",
   "metadata": {},
   "outputs": [],
   "source": [
    "from collections import defaultdict\n",
    "def find_collisions(lim, p=2):\n",
    "    \"\"\"Examine every integer 1..lim-1 for ones_density collisions with other ints in range.\"\"\"\n",
    "    int_val = {}\n",
    "    collisions = defaultdict(set)\n",
    "    k = int_val.keys()\n",
    "    for n in range(1, lim):\n",
    "        d = ones_density(n, p)\n",
    "        if d in k:\n",
    "            c = {n, int_val[d]} # set of the colliding pair\n",
    "            collisions[d] |= c  # union with the existing set of collisions for that ones_density\n",
    "        else:\n",
    "            int_val[d] = n\n",
    "    return collisions\n",
    "\n",
    "find_collisions(100)"
   ]
  },
  {
   "cell_type": "code",
   "execution_count": null,
   "id": "574a007b",
   "metadata": {},
   "outputs": [],
   "source": [
    "def counter_examples(n, p=2):\n",
    "    \"\"\"Report any counter examples.\n",
    "    \n",
    "    A counterexample is a collision set in the range that has members without shared bits.\n",
    "    The collisions are of ones_denisties, using base p.\n",
    "    \"\"\"\n",
    "    counter_pairs = {}\n",
    "    for density, collisions in find_collisions(n, p).items():\n",
    "        if problems := true_exceptions(collisions):   # Found counterexamples\n",
    "            for problem in problems:\n",
    "                counter_pairs[density] = sorted(problem)  # sort by first element\n",
    "    return sorted(counter_pairs.items())\n",
    "\n",
    "n = 1_000_000\n",
    "print(f\"timing search for counter-examples, n={n:_}, p = 2\")\n",
    "%timeit counter_examples(lim, p=2)\n",
    "print(f\"timing search for counter-examples, n={n:_}, p = 11\")\n",
    "%timeit counter_examples(lim, p=11)\n",
    "print()\n",
    "p_values = [2, 3, 5, 7, 11]\n",
    "print(f\"looking for counter-examples for p={p_values}\")\n",
    "for p in p_values:\n",
    "    print(f\"p={p}, {counter_examples(lim, p)}\")"
   ]
  },
  {
   "cell_type": "markdown",
   "id": "17c0c36b",
   "metadata": {},
   "source": [
    "Well! That's convenient, and quick. And it looks like counter-examples are only for p=2.  \n",
    "\n",
    "Of course, perhaps `n` just isn't big enough. We really need a proof (or disproof) of the conjecture for p>2."
   ]
  },
  {
   "cell_type": "code",
   "execution_count": null,
   "id": "25c60b49",
   "metadata": {},
   "outputs": [],
   "source": []
  }
 ],
 "metadata": {
  "kernelspec": {
   "display_name": "Python 3 (ipykernel)",
   "language": "python",
   "name": "python3"
  },
  "language_info": {
   "codemirror_mode": {
    "name": "ipython",
    "version": 3
   },
   "file_extension": ".py",
   "mimetype": "text/x-python",
   "name": "python",
   "nbconvert_exporter": "python",
   "pygments_lexer": "ipython3",
   "version": "3.11.0"
  }
 },
 "nbformat": 4,
 "nbformat_minor": 5
}
