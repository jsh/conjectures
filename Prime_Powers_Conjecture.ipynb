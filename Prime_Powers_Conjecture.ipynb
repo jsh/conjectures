{
 "cells": [
  {
   "cell_type": "markdown",
   "id": "d0133a55",
   "metadata": {},
   "source": [
    "# A Conjecture About Means of Prime Powers"
   ]
  },
  {
   "cell_type": "markdown",
   "id": "e36aaec4",
   "metadata": {},
   "source": [
    "Here's a conjecture:\n",
    "\n",
    "Consider the set of all powers of a prime, from 1 to p^k: P = {p^0, p^1, p^2, ... p^k}.\n",
    "Pull out two subsets, S & T, that don't intersect.\n",
    "Take the means of each.\n",
    "\n",
    "Conjecture: $\\mu(S) != \\mu(T)$\n",
    "\n",
    "For example, if p is 2 and k is 10 P = {1, 2, 4, 8, ..., 1024} \n",
    "If S = {1, 2, 8} and T = {4, 16, 32}, then $\\mu(S) = 11/3$ and $\\mu(T) = 52/3$\n",
    "\n",
    "The conjecture is that this holdsfor any two finite, non-intersecting set of powers of p, a prime. \n",
    "\n",
    "Sticking with powers of $p = 2$, here's another way to say this.\n",
    "\n",
    "First, *every* integer is a unique sum of powers of two.\n",
    "\n",
    "17 = 16 + 1\n",
    " 7 = 4 + 2 + 1\n",
    "11 = 8 + 2 + 1\n",
    "52 = 32 + 16 + 4\n",
    "\n",
    "and so on.\n",
    "\n",
    "You can read that sum right from the number's binary representation.\n",
    "\n",
    "17 = 10001\n",
    "7 = 111\n",
    "11 = 1011\n",
    "52 = 110100\n",
    "...\n",
    "\n",
    "So, the average of a series that sums to N is just N/(# of 1-bits in the binary representation of N) . \n",
    "\n",
    "Next, I'll make up a term: I'll call the inverse of this -- (# of 1-bits in the binary representation /  N) -- the 1's density. I'm not crazy about this term and would love a better one. but let me use it for a few minutes.\n",
    "\n",
    "It does sort of correspond to your intuition. If a number is big but it doesn't have very many 1-bits in its binary representation, then the 1's density is low. If a number's little, but its binary representation is full of 1's, then the 1's density is high.\n",
    "\n",
    "For example,\n",
    "\n",
    "$512 = 1000000000(base2)$ -- low 1's density\n",
    "$15 = 1111(base 2)$ -- high 1's density.\n",
    "\n",
    "If the averages are the same, the inverses of the averages are the same, too. I'm claiming two different integers won't ever have the same 1's density -- I'm saying 17 (10001) and 8 (1000) won't have the same 1's density.\n",
    "\n",
    "No, wait. That's not right. I'm claiming that as long as they don't have any of the *same* one bits set, they won't have the same 1's density.\n",
    "\n",
    "What about a more grandiose question: Will *any* two integers ever have the same 1's density?\n",
    "Why yes, they will.\n",
    "\n",
    "When I look at, say, the first 100 integers, 69 and 92 have the same 1's density. :-(\n",
    "69 has 3 one-bits, 92 has 4 one-bits. (3/69= 1/23 = 4/92).  But they share bits!\n",
    "69 = 1000101(base 2) and 92 = 1011100(base 2), so they both share 64 = 2^6 and 4 = 2^2.\n",
    "\n",
    "Here's the conjecture in pseudo-code, for $p = 2$\n",
    "\n",
    "```\n",
    "if m != n and !share_bits(m, n) then ones_density(m) != ones_density(n).\n",
    "```\n",
    "\n",
    "Here's a shorter way to say that.\n",
    "\n",
    "```\n",
    "if ones_density(m) == ones_density(n) then share_bits(m, n)\n",
    "```\n",
    "\n",
    "Time to write some code to look for a counterexample.\n",
    "\n",
    "\n",
    "Let's begin with a couple of functions."
   ]
  },
  {
   "cell_type": "code",
   "execution_count": null,
   "id": "f203e8d4",
   "metadata": {},
   "outputs": [],
   "source": [
    "def ones_density(n):\n",
    "    \"\"\"Number of one-bits divided by the number itself.\"\"\"\n",
    "    return (n).bit_count()/n\n",
    "\n",
    "ones_density(3)"
   ]
  },
  {
   "cell_type": "code",
   "execution_count": null,
   "id": "620bd937",
   "metadata": {},
   "outputs": [],
   "source": [
    "def share_bits(m, n):\n",
    "    \"\"\"True iff m and n share a bit.\"\"\"\n",
    "    return bool(m&n)\n",
    "print(share_bits(1, 3))\n",
    "print(share_bits(8, 4))"
   ]
  },
  {
   "cell_type": "markdown",
   "id": "2c5c2e3d",
   "metadata": {},
   "source": [
    "Next, collect the `ones_density` of all the numbers from 1 to lim-1."
   ]
  },
  {
   "cell_type": "code",
   "execution_count": null,
   "id": "0859bf51",
   "metadata": {},
   "outputs": [],
   "source": [
    "def densities(lim):\n",
    "    \"\"\"Densities of all numbers from 1 up to but not including lim.\"\"\"\n",
    "    d = {}\n",
    "    for n in range(1, lim):\n",
    "        d[n] = ones_density(n)\n",
    "    return d\n",
    "\n",
    "densities(5)"
   ]
  },
  {
   "cell_type": "markdown",
   "id": "fd9a7134",
   "metadata": {},
   "source": [
    "How many densities are there in all the numbers from 1 up to (but not including) 99?"
   ]
  },
  {
   "cell_type": "code",
   "execution_count": null,
   "id": "9bfc9ec7",
   "metadata": {},
   "outputs": [],
   "source": [
    "d_100 = densities(100)\n",
    "len(set(d_100.values()))"
   ]
  },
  {
   "cell_type": "markdown",
   "id": "e7fd1285",
   "metadata": {},
   "source": [
    "If every integer had a different density, there would have been 99 values. There are only 98, so some value is there twice -- there's a collision. Where is it?"
   ]
  },
  {
   "cell_type": "markdown",
   "id": "0e4eade2",
   "metadata": {},
   "source": [
    "Let's start out by reversing the mapping -- make a dictionary with the integer as the value and its ones density as its key. Then, every time we look at a new integer, we can see whether we've already seen an integer with that ones value.\n",
    "\n",
    "If we have, then we report the collision."
   ]
  },
  {
   "cell_type": "code",
   "execution_count": null,
   "id": "2e80489e",
   "metadata": {},
   "outputs": [],
   "source": [
    "def map_densities_to_ints(lim):\n",
    "    int_val = {}\n",
    "    k = int_val.keys()\n",
    "    for n in range(1, lim):\n",
    "        d = ones_density(n)\n",
    "        if d in k:\n",
    "            print(f\"collision: {int_val[d]}, {n}\") # the current n, and the first integer with the same ones_density\n",
    "        else:\n",
    "            int_val[d] = n\n",
    "    return int_val\n",
    "\n",
    "iv_1000 = map_densities_to_ints(200)"
   ]
  },
  {
   "cell_type": "markdown",
   "id": "f0dcbf76",
   "metadata": {},
   "source": [
    "Plenty of collisions! For each collision, do colliders share bits?\n"
   ]
  },
  {
   "cell_type": "markdown",
   "id": "67040450",
   "metadata": {},
   "source": [
    "Let's squirrel away the collisions, then go back and look."
   ]
  },
  {
   "cell_type": "code",
   "execution_count": null,
   "id": "b033e53c",
   "metadata": {},
   "outputs": [],
   "source": [
    "from collections import defaultdict\n",
    "def find_collisions(lim):\n",
    "    int_val = {}\n",
    "    collisions = defaultdict(set)\n",
    "    k = int_val.keys()\n",
    "    for n in range(1, lim):\n",
    "        d = ones_density(n)\n",
    "        if d in k:\n",
    "            c = {n, int_val[d]} # set of the colliding pair\n",
    "            collisions[d] |= c  # union with the existing set of collisions for that ones_density\n",
    "        else:\n",
    "            int_val[d] = n\n",
    "    return collisions\n",
    "\n",
    "find_collisions(100)"
   ]
  },
  {
   "cell_type": "markdown",
   "id": "3c9b751d",
   "metadata": {},
   "source": [
    "The conjecture is that collisions are only possible for numbers that have one or more bits in common.\n",
    "Does this pair share any bits?"
   ]
  },
  {
   "cell_type": "code",
   "execution_count": null,
   "id": "d7f31418",
   "metadata": {},
   "outputs": [],
   "source": [
    "share_bits(69, 92)"
   ]
  },
  {
   "cell_type": "markdown",
   "id": "d35dd8a8",
   "metadata": {},
   "source": [
    "Oh? And what bits would those be?"
   ]
  },
  {
   "cell_type": "code",
   "execution_count": null,
   "id": "325b8417",
   "metadata": {},
   "outputs": [],
   "source": [
    "def show_collision(i, j):\n",
    "    print(f\"{(i).bit_count()}/{i} == {ones_density(i)} == {(j).bit_count()}/{j}\")\n",
    "    print(f\"collision: {i}({i:b}) & {j}({j:b}) == {i&j:b}\")\n",
    "\n",
    "show_collision(69, 92)"
   ]
  },
  {
   "cell_type": "markdown",
   "id": "894d507f",
   "metadata": {},
   "source": [
    "That's one case. We need a function that will look at all pairs from each collision set."
   ]
  },
  {
   "cell_type": "code",
   "execution_count": null,
   "id": "f36f4d02",
   "metadata": {},
   "outputs": [],
   "source": [
    "def collisions_share_bits(s):\n",
    "    l = list(s)   # turn it into a list\n",
    "    while l:\n",
    "        end = l.pop()   # pop off the rightmost element\n",
    "        pairwise_shares = [share_bits(end, elem) for elem in l] # check whether all remaining share bits with end\n",
    "        if not all(pairwise_shares):\n",
    "            return False\n",
    "    return True\n",
    "print(collisions_share_bits({69, 92}))\n",
    "print(collisions_share_bits({4, 8}))\n",
    "print(collisions_share_bits({69, 4, 92, 8}))"
   ]
  },
  {
   "cell_type": "code",
   "execution_count": null,
   "id": "0c38354c",
   "metadata": {},
   "outputs": [],
   "source": [
    "def counterexamples(n):\n",
    "    true_collisions = {}\n",
    "    for ones_density, collisions in find_collisions(n).items():\n",
    "        if not collisions_share_bits(collisions):   # Found a counterexample\n",
    "            true_collisions[ones_density] = collisions\n",
    "    return true_collisions\n",
    "\n",
    "counterexamples(10_000)"
   ]
  },
  {
   "cell_type": "code",
   "execution_count": null,
   "id": "57c8f4d6",
   "metadata": {},
   "outputs": [],
   "source": [
    "show_collision(7554, 8813)"
   ]
  },
  {
   "cell_type": "markdown",
   "id": "2d13fa70",
   "metadata": {},
   "source": [
    "Same ones-density, no shared bits. The conjecture's false. Bummer."
   ]
  }
 ],
 "metadata": {
  "kernelspec": {
   "display_name": "Python 3 (ipykernel)",
   "language": "python",
   "name": "python3"
  },
  "language_info": {
   "codemirror_mode": {
    "name": "ipython",
    "version": 3
   },
   "file_extension": ".py",
   "mimetype": "text/x-python",
   "name": "python",
   "nbconvert_exporter": "python",
   "pygments_lexer": "ipython3",
   "version": "3.11.0"
  }
 },
 "nbformat": 4,
 "nbformat_minor": 5
}
